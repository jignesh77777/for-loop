{
 "cells": [
  {
   "cell_type": "markdown",
   "id": "9cc96c5f-bea6-484d-90e6-8abad5ed0971",
   "metadata": {},
   "source": [
    "1. Write a Python program to print the numbers from 1 to 10 using a `for` loop."
   ]
  },
  {
   "cell_type": "markdown",
   "id": "c8b4055a-5110-4ef4-b832-0538bd508a92",
   "metadata": {},
   "source": [
    "Ans."
   ]
  },
  {
   "cell_type": "code",
   "execution_count": 1,
   "id": "b679b05c-6428-4563-bf17-e8d4a9e9ed29",
   "metadata": {},
   "outputs": [
    {
     "name": "stdout",
     "output_type": "stream",
     "text": [
      "1\n",
      "2\n",
      "3\n",
      "4\n",
      "5\n",
      "6\n",
      "7\n",
      "8\n",
      "9\n",
      "10\n"
     ]
    }
   ],
   "source": [
    "i=0\n",
    "for i in range(1,11):\n",
    "    print(i)"
   ]
  },
  {
   "cell_type": "markdown",
   "id": "502fd819-b87c-45ff-9ed7-fd661e53fd5d",
   "metadata": {},
   "source": [
    "2. Create a program that calculates the sum of all numbers in a list using a `for` loop."
   ]
  },
  {
   "cell_type": "markdown",
   "id": "e1ad9cf9-a9cf-4b63-9333-36ca4157ee0e",
   "metadata": {},
   "source": [
    "Ans."
   ]
  },
  {
   "cell_type": "code",
   "execution_count": 16,
   "id": "f63f864e-1157-4c4b-92c3-761ab5a21e61",
   "metadata": {},
   "outputs": [
    {
     "name": "stdout",
     "output_type": "stream",
     "text": [
      "The sum of the numbers in the list is: 228\n"
     ]
    }
   ],
   "source": [
    "# List of numbers\n",
    "my_numbers = [1, 2, 3, 4, 5,45,78,90]\n",
    "\n",
    "# Initialize a variable to store the sum\n",
    "total_sum = 0\n",
    "\n",
    "# Iterate through the list using a for loop\n",
    "for number in my_numbers:\n",
    "    total_sum += number\n",
    "\n",
    "# Print the result\n",
    "print(f\"The sum of the numbers in the list is: {total_sum}\")\n"
   ]
  },
  {
   "cell_type": "code",
   "execution_count": null,
   "id": "8c9f4eaf-a6d4-4bce-816a-a7bee7b37cbb",
   "metadata": {},
   "outputs": [],
   "source": []
  },
  {
   "cell_type": "markdown",
   "id": "121c9d96-2f9e-4134-8da9-0bbc217f5412",
   "metadata": {},
   "source": [
    "3. Write a program to print the characters of a string in reverse order using a `for` loop."
   ]
  },
  {
   "cell_type": "markdown",
   "id": "ea7c7c5c-dde5-4736-8094-f4f0ef74dc0e",
   "metadata": {},
   "source": [
    "Ans."
   ]
  },
  {
   "cell_type": "code",
   "execution_count": 20,
   "id": "7e94bb49-2a1d-4b20-846d-b69871389ac6",
   "metadata": {},
   "outputs": [
    {
     "name": "stdout",
     "output_type": "stream",
     "text": [
      "h\n",
      "s\n",
      "e\n",
      "n\n",
      "g\n",
      "i\n",
      "J\n"
     ]
    }
   ],
   "source": [
    "My_string=\"Jignesh\"\n",
    "for char in reversed(My_string):\n",
    "    print(char)"
   ]
  },
  {
   "cell_type": "code",
   "execution_count": null,
   "id": "f4de6bb3-9388-4f7d-abb6-a68b6b14a6a2",
   "metadata": {},
   "outputs": [],
   "source": []
  },
  {
   "cell_type": "markdown",
   "id": "120e7b78-de25-4e87-a36b-e9b0dbb20444",
   "metadata": {},
   "source": [
    "4. Develop a program that finds the factorial of a given number using a `for` loop."
   ]
  },
  {
   "cell_type": "markdown",
   "id": "50fb9923-91fe-4a9c-b44a-8bf1bd56e469",
   "metadata": {},
   "source": [
    "Ans."
   ]
  },
  {
   "cell_type": "code",
   "execution_count": 21,
   "id": "edf4424d-fa7e-4f9b-ad07-861de87940a1",
   "metadata": {},
   "outputs": [
    {
     "name": "stdin",
     "output_type": "stream",
     "text": [
      "Enter a number to calculate its factorial:  10\n"
     ]
    },
    {
     "name": "stdout",
     "output_type": "stream",
     "text": [
      "The factorial of 10 is: 3628800\n"
     ]
    }
   ],
   "source": [
    "# Function to calculate factorial\n",
    "def calculate_factorial(number):\n",
    "    factorial = 1\n",
    "    for i in range(1, number + 1):\n",
    "        factorial *= i\n",
    "    return factorial\n",
    "\n",
    "# Example usage\n",
    "user_input = int(input(\"Enter a number to calculate its factorial: \"))\n",
    "result = calculate_factorial(user_input)\n",
    "print(f\"The factorial of {user_input} is: {result}\")\n",
    "\n",
    "\n",
    "\n"
   ]
  },
  {
   "cell_type": "code",
   "execution_count": null,
   "id": "91ef76d2-5fdb-476b-a2da-60545ccf2b91",
   "metadata": {},
   "outputs": [],
   "source": []
  },
  {
   "cell_type": "markdown",
   "id": "4cd106b2-c7df-48cc-b88a-69740ec9bcf2",
   "metadata": {},
   "source": [
    "5. Create a program to print the multiplication table of a given number using a `for` loop."
   ]
  },
  {
   "cell_type": "markdown",
   "id": "eeb9f0c8-8efe-4876-81e9-fe407d5030bf",
   "metadata": {},
   "source": [
    "Ans."
   ]
  },
  {
   "cell_type": "code",
   "execution_count": 6,
   "id": "0ef9ca9b-2e9d-41e1-b8a3-9db8b71fc7cf",
   "metadata": {},
   "outputs": [
    {
     "name": "stdin",
     "output_type": "stream",
     "text": [
      "enter the number :  5\n"
     ]
    },
    {
     "name": "stdout",
     "output_type": "stream",
     "text": [
      " 5 x 1= 5\n",
      " 5 x 2= 10\n",
      " 5 x 3= 15\n",
      " 5 x 4= 20\n",
      " 5 x 5= 25\n",
      " 5 x 6= 30\n",
      " 5 x 7= 35\n",
      " 5 x 8= 40\n",
      " 5 x 9= 45\n",
      " 5 x 10= 50\n"
     ]
    }
   ],
   "source": [
    "def multiplication_table(number):\n",
    "    for i in range(1,11):\n",
    "        result=number * i\n",
    "        print(f\" {number} x {i}= {result}\")\n",
    "    \n",
    "user_input=int(input('enter the number : '))\n",
    "get_table=multiplication_table(user_input)"
   ]
  },
  {
   "cell_type": "code",
   "execution_count": null,
   "id": "5f8a60dc-b35e-46b6-ac5f-7155bb6d1e40",
   "metadata": {},
   "outputs": [],
   "source": []
  },
  {
   "cell_type": "markdown",
   "id": "4f39c9bd-30ac-48bb-9e88-5317985aed45",
   "metadata": {},
   "source": [
    "6. Write a program that counts the number of even and odd numbers in a list using a `for` loop.  "
   ]
  },
  {
   "cell_type": "markdown",
   "id": "a04d6163-bc5c-4ee7-a031-3236eb986f40",
   "metadata": {},
   "source": [
    "Ans."
   ]
  },
  {
   "cell_type": "code",
   "execution_count": 17,
   "id": "0dc5cd31-fee5-4fc2-beb2-f614ed5dbe93",
   "metadata": {},
   "outputs": [
    {
     "name": "stdout",
     "output_type": "stream",
     "text": [
      "the even number in list is 10 \n",
      "the even number in list is 5 \n"
     ]
    }
   ],
   "source": [
    "def count_number(numbers):\n",
    "    \n",
    "    even_count=0\n",
    "    odd_count=0\n",
    "    for number in numbers:\n",
    "        if number %2==0:\n",
    "            even_count+=1\n",
    "    \n",
    "        else:\n",
    "            odd_count+=1\n",
    "    return even_count , odd_count\n",
    "            \n",
    "\n",
    "numbers_list=[1,2,32,34,56,4,3,27,78,89,766,55,44,332,2]\n",
    "even, odd=count_number(numbers_list)\n",
    "print(f\"the even number in list is {even} \")\n",
    "print(f\"the even number in list is {odd} \")"
   ]
  },
  {
   "cell_type": "code",
   "execution_count": null,
   "id": "fcb3d7bf-5c5e-4710-95c6-b5f343a10d21",
   "metadata": {},
   "outputs": [],
   "source": []
  },
  {
   "cell_type": "markdown",
   "id": "1bf7483c-4167-445d-b107-d0c55f938078",
   "metadata": {},
   "source": [
    "7. Develop a program that prints the squares of numbers from 1 to 5 using a `for` loop."
   ]
  },
  {
   "cell_type": "markdown",
   "id": "463dd45c-1af6-4c23-be7e-baa2741cae3b",
   "metadata": {},
   "source": [
    "Ans."
   ]
  },
  {
   "cell_type": "code",
   "execution_count": 22,
   "id": "d4cce25c-f55c-44c4-a339-70fc318dfed9",
   "metadata": {},
   "outputs": [],
   "source": [
    "def square_number(number):\n",
    "    for i in range(1,6):\n",
    "        square=i**2\n",
    "        print(square)"
   ]
  },
  {
   "cell_type": "code",
   "execution_count": 23,
   "id": "41398ab1-eb5f-4826-8d0f-d38d2ac9ec80",
   "metadata": {},
   "outputs": [
    {
     "name": "stdout",
     "output_type": "stream",
     "text": [
      "1\n",
      "4\n",
      "9\n",
      "16\n",
      "25\n"
     ]
    }
   ],
   "source": [
    "result=square_number(number)"
   ]
  },
  {
   "cell_type": "code",
   "execution_count": null,
   "id": "f33238e8-d97f-464b-81d9-ff0c681a15dd",
   "metadata": {},
   "outputs": [],
   "source": []
  },
  {
   "cell_type": "markdown",
   "id": "c0089508-1ba6-4449-9808-473b964181d0",
   "metadata": {},
   "source": [
    "8. Create a program to find the length of a string without using the `len()` function."
   ]
  },
  {
   "cell_type": "markdown",
   "id": "6ea16b3b-23ed-4b18-80ed-dec83e07ae94",
   "metadata": {},
   "source": [
    "Ans."
   ]
  },
  {
   "cell_type": "code",
   "execution_count": 1,
   "id": "444c875e-857a-4ce1-83e7-b8d406f479e2",
   "metadata": {},
   "outputs": [
    {
     "name": "stdin",
     "output_type": "stream",
     "text": [
      "Enter a string:  jignesh\n"
     ]
    },
    {
     "name": "stdout",
     "output_type": "stream",
     "text": [
      "Length of the string: 7\n"
     ]
    }
   ],
   "source": [
    "# Function to find the length of a string without using len()\n",
    "def find_string_length(input_string):\n",
    "    count = 0\n",
    "\n",
    "    for char in input_string:\n",
    "        count += 1\n",
    "\n",
    "    return count\n",
    "\n",
    "# Example usage\n",
    "user_input = input(\"Enter a string: \")\n",
    "length = find_string_length(user_input)\n",
    "print(f\"Length of the string: {length}\")\n"
   ]
  },
  {
   "cell_type": "code",
   "execution_count": null,
   "id": "9bdbc471-f212-4089-81b8-751613bcb96a",
   "metadata": {},
   "outputs": [],
   "source": []
  },
  {
   "cell_type": "markdown",
   "id": "2a700807-94d0-4f3e-92d9-f2f757766e7c",
   "metadata": {},
   "source": [
    "9. Write a program that calculates the average of a list of numbers using a `for` loop."
   ]
  },
  {
   "cell_type": "markdown",
   "id": "5c8c62e9-17dc-4c9e-a2ce-41a4a76e3894",
   "metadata": {},
   "source": [
    "Ans."
   ]
  },
  {
   "cell_type": "code",
   "execution_count": 10,
   "id": "072ab8f2-bb5a-4167-bf51-18743518b68a",
   "metadata": {},
   "outputs": [
    {
     "name": "stdout",
     "output_type": "stream",
     "text": [
      "the average of the total number is 30.0\n"
     ]
    }
   ],
   "source": [
    "def calculate_average(numbers):\n",
    "    total=0\n",
    "    count=0\n",
    "    \n",
    "    for number in numbers:\n",
    "        total +=number\n",
    "        count +=1\n",
    "        \n",
    "    average=total/count\n",
    "    return average\n",
    "number_list=[10,20,30,40,50]\n",
    "\n",
    "average_result=calculate_average(number_list)\n",
    "print(f\"the average of the total number is {average_result}\")"
   ]
  },
  {
   "cell_type": "code",
   "execution_count": null,
   "id": "e947578b-efbf-4d7f-a705-f24c5685367e",
   "metadata": {},
   "outputs": [],
   "source": []
  },
  {
   "cell_type": "markdown",
   "id": "6dc9e953-d7d8-49d8-9a9c-7bdeeb8d3d62",
   "metadata": {},
   "source": [
    "10. Develop a program that prints the first `n` Fibonacci numbers using a `for` loop."
   ]
  },
  {
   "cell_type": "markdown",
   "id": "121f1131-1494-4d5f-a10e-a90a784bcd4c",
   "metadata": {},
   "source": [
    "Ans."
   ]
  },
  {
   "cell_type": "code",
   "execution_count": 23,
   "id": "e8d06be6-67e8-4502-8ae8-68093ef7927e",
   "metadata": {},
   "outputs": [],
   "source": [
    "def print_fibonacci_number(n):\n",
    "    fib_seq=[0,1]\n",
    "    for i in range(2,n):\n",
    "        next_fibo=fib_seq[-1]+ fib_seq[-2]\n",
    "        fib_seq.append(next_fibo)\n",
    "    \n",
    "    print(f\"first {n} fibonacci number is:\")\n",
    "    for number in fib_seq:\n",
    "        print(number,end=\" \")\n",
    "        "
   ]
  },
  {
   "cell_type": "code",
   "execution_count": 24,
   "id": "47f82029-c24d-49d3-8c26-fb2621f94a21",
   "metadata": {},
   "outputs": [
    {
     "name": "stdin",
     "output_type": "stream",
     "text": [
      "enter the number for the fibonacci number:  10\n"
     ]
    },
    {
     "name": "stdout",
     "output_type": "stream",
     "text": [
      "first 10 fibonacci number is:\n",
      "0 1 1 2 3 5 8 13 21 34 "
     ]
    }
   ],
   "source": [
    "user_input=int(input(\"enter the number for the fibonacci number: \"))\n",
    "try:\n",
    "    n=int(user_input)\n",
    "    if n<=0:\n",
    "        print(\"please enter a positive integer\")\n",
    "    else:\n",
    "        print_fibonacci_number(n)\n",
    "except ValueError:\n",
    "    print(\"please enter a valid integer\")"
   ]
  },
  {
   "cell_type": "code",
   "execution_count": null,
   "id": "a8a08957-2bc6-4024-8b45-516e51b32845",
   "metadata": {},
   "outputs": [],
   "source": []
  },
  {
   "cell_type": "markdown",
   "id": "f822e9ac-2f1e-447a-9c59-baa04e24a2c9",
   "metadata": {},
   "source": [
    "11. Write a program to check if a given list contains any duplicates using a `for` loop."
   ]
  },
  {
   "cell_type": "markdown",
   "id": "9cb2a509-72f1-45b6-905d-2b751cc9abaa",
   "metadata": {},
   "source": [
    "Ans."
   ]
  },
  {
   "cell_type": "code",
   "execution_count": 25,
   "id": "aaed89fd-5521-41ad-9c93-3c4f0e249236",
   "metadata": {},
   "outputs": [
    {
     "name": "stdout",
     "output_type": "stream",
     "text": [
      "The list contains duplicates.\n"
     ]
    }
   ],
   "source": [
    "# Function to check for duplicates in a list\n",
    "def has_duplicates(input_list):\n",
    "    seen = set()\n",
    "\n",
    "    for item in input_list:\n",
    "        if item in seen:\n",
    "            return True\n",
    "        seen.add(item)\n",
    "\n",
    "    return False\n",
    "\n",
    "# Example list\n",
    "my_list = [1, 2, 3, 4, 5, 6, 7, 8, 9, 10, 5]\n",
    "\n",
    "# Check for duplicates\n",
    "if has_duplicates(my_list):\n",
    "    print(\"The list contains duplicates.\")\n",
    "else:\n",
    "    print(\"The list does not contain duplicates.\")\n"
   ]
  },
  {
   "cell_type": "code",
   "execution_count": null,
   "id": "0327760e-399e-42fc-9acc-756d4be4b2c0",
   "metadata": {},
   "outputs": [],
   "source": []
  },
  {
   "cell_type": "markdown",
   "id": "45e22de4-3796-4ede-913e-e3eb587a5eb0",
   "metadata": {},
   "source": [
    "12. Create a program that prints the prime numbers in a given range using a `for` loop."
   ]
  },
  {
   "cell_type": "markdown",
   "id": "63d4b5d4-c4e9-4873-b56c-da5300b34132",
   "metadata": {},
   "source": [
    "Ans."
   ]
  },
  {
   "cell_type": "code",
   "execution_count": 1,
   "id": "dd7bfa17-4f7b-4e8e-8157-9cb1cfd4de5b",
   "metadata": {},
   "outputs": [
    {
     "name": "stdin",
     "output_type": "stream",
     "text": [
      "Enter the starting number of the range:  5\n",
      "Enter the ending number of the range:  54\n"
     ]
    },
    {
     "name": "stdout",
     "output_type": "stream",
     "text": [
      "Prime numbers in the range 5 to 54:\n",
      "5 7 11 13 17 19 23 29 31 37 41 43 47 53 "
     ]
    }
   ],
   "source": [
    "# Function to check if a number is prime\n",
    "def is_prime(number):\n",
    "    if number < 2:\n",
    "        return False\n",
    "    for i in range(2, int(number**0.5) + 1):\n",
    "        if number % i == 0:\n",
    "            return False\n",
    "    return True\n",
    "\n",
    "# Function to print prime numbers in a given range\n",
    "def print_primes_in_range(start, end):\n",
    "    print(f\"Prime numbers in the range {start} to {end}:\")\n",
    "    for num in range(start, end + 1):\n",
    "        if is_prime(num):\n",
    "            print(num, end=\" \")\n",
    "\n",
    "# Get user input for the range\n",
    "start_range = int(input(\"Enter the starting number of the range: \"))\n",
    "end_range = int(input(\"Enter the ending number of the range: \"))\n",
    "\n",
    "# Check and print prime numbers in the given range\n",
    "print_primes_in_range(start_range, end_range)\n"
   ]
  },
  {
   "cell_type": "code",
   "execution_count": null,
   "id": "aead632d-5b20-4834-a3ad-6c825d9d5074",
   "metadata": {},
   "outputs": [],
   "source": []
  },
  {
   "cell_type": "markdown",
   "id": "d1dd2aa9-ec7f-4014-98ec-2053c146fe05",
   "metadata": {},
   "source": [
    "13. Develop a program that counts the number of vowels in a string using a `for` loop."
   ]
  },
  {
   "cell_type": "markdown",
   "id": "88784c86-ea8d-49b1-8eb1-f7a5ee1deedd",
   "metadata": {},
   "source": [
    "Ans."
   ]
  },
  {
   "cell_type": "code",
   "execution_count": 3,
   "id": "241a0f60-094c-4018-9bf4-ffba53053155",
   "metadata": {},
   "outputs": [
    {
     "name": "stdin",
     "output_type": "stream",
     "text": [
      "Enter a string:  54\n"
     ]
    },
    {
     "name": "stdout",
     "output_type": "stream",
     "text": [
      "Number of vowels in the string: 0\n"
     ]
    }
   ],
   "source": [
    "# Function to count the number of vowels in a string\n",
    "def count_vowels(input_string):\n",
    "    vowels = \"aeiouAEIOU\"\n",
    "    vowel_count = 0\n",
    "\n",
    "    for char in input_string:\n",
    "        if char in vowels:\n",
    "            vowel_count += 1\n",
    "\n",
    "    return vowel_count\n",
    "\n",
    "# Example usage\n",
    "user_input = input(\"Enter a string: \")\n",
    "result = count_vowels(user_input)\n",
    "print(f\"Number of vowels in the string: {result}\")\n"
   ]
  },
  {
   "cell_type": "code",
   "execution_count": null,
   "id": "d627ab76-dc18-4d57-aa13-460713295c65",
   "metadata": {},
   "outputs": [],
   "source": []
  },
  {
   "cell_type": "markdown",
   "id": "5942f75f-afee-4ddc-8277-5703dbf0509a",
   "metadata": {},
   "source": [
    "14. Write a program to find the maximum element in a 2D list using a nested `for` loop."
   ]
  },
  {
   "cell_type": "markdown",
   "id": "cce00859-d21e-45fa-9fca-430fbc595807",
   "metadata": {},
   "source": [
    "Ans."
   ]
  },
  {
   "cell_type": "code",
   "execution_count": 4,
   "id": "2274cd58-9221-4b5c-8f41-d835cf0cf9e1",
   "metadata": {},
   "outputs": [
    {
     "name": "stdout",
     "output_type": "stream",
     "text": [
      "The maximum element in the 2D list is: 12\n"
     ]
    }
   ],
   "source": [
    "# Function to find the maximum element in a 2D list\n",
    "def find_max_element(matrix):\n",
    "    if not matrix or not matrix[0]:\n",
    "        return None  # Return None for an empty matrix\n",
    "\n",
    "    max_element = matrix[0][0]\n",
    "\n",
    "    for row in matrix:\n",
    "        for element in row:\n",
    "            if element > max_element:\n",
    "                max_element = element\n",
    "\n",
    "    return max_element\n",
    "\n",
    "# Example 2D list\n",
    "matrix = [\n",
    "    [3, 7, 1, 9],\n",
    "    [11, 4, 6, 2],\n",
    "    [8, 10, 5, 12]\n",
    "]\n",
    "\n",
    "# Find and print the maximum element\n",
    "max_element = find_max_element(matrix)\n",
    "\n",
    "if max_element is not None:\n",
    "    print(f\"The maximum element in the 2D list is: {max_element}\")\n",
    "else:\n",
    "    print(\"The matrix is empty.\")\n"
   ]
  },
  {
   "cell_type": "code",
   "execution_count": null,
   "id": "68f2af7a-2b3a-4049-abb7-dee5c9c31ee2",
   "metadata": {},
   "outputs": [],
   "source": []
  },
  {
   "cell_type": "markdown",
   "id": "d64c4919-157f-478d-9fea-760d08aeea46",
   "metadata": {},
   "source": [
    "15. Create a program that removes all occurrences of a specific element from a list using a `for` loop."
   ]
  },
  {
   "cell_type": "markdown",
   "id": "e161992d-c7c0-4c7e-894f-ce28de283dfb",
   "metadata": {},
   "source": [
    "Ans."
   ]
  },
  {
   "cell_type": "code",
   "execution_count": null,
   "id": "6e6670f4-972d-4d1a-86bf-6b8c1c0b0f3d",
   "metadata": {},
   "outputs": [],
   "source": [
    "# Function to remove all occurrences of a specific element from a list\n",
    "def remove_element(input_list, element_to_remove):\n",
    "    updated_list = []\n",
    "\n",
    "    for item in input_list:\n",
    "        if item != element_to_remove:\n",
    "            updated_list.append(item)\n",
    "\n",
    "    return updated_list\n",
    "\n",
    "# Example usage\n",
    "original_list = [1, 2, 3, 4, 2, 5, 2, 6]\n",
    "element_to_remove = 2\n",
    "\n",
    "updated_list = remove_element(original_list, element_to_remove)\n",
    "\n",
    "print(f\"Original List: {original_list}\")\n",
    "print(f\"List after removing {element_to_remove}: {updated_list}\")\n"
   ]
  },
  {
   "cell_type": "code",
   "execution_count": null,
   "id": "e77bf990-ec8c-43d1-afcc-cdb590ee96c3",
   "metadata": {},
   "outputs": [],
   "source": []
  },
  {
   "cell_type": "markdown",
   "id": "0de527f0-3ff1-45f7-9034-def48df7b536",
   "metadata": {},
   "source": [
    "16. Develop a program that generates a multiplication table for numbers from 1 to 5 using a nested `for` loop."
   ]
  },
  {
   "cell_type": "markdown",
   "id": "70608250-88d9-4454-9cbc-533880f48dcc",
   "metadata": {},
   "source": [
    "Ans."
   ]
  },
  {
   "cell_type": "code",
   "execution_count": 5,
   "id": "7062ed3e-3f1f-4b5c-aa71-bf2a32aa7165",
   "metadata": {},
   "outputs": [
    {
     "name": "stdout",
     "output_type": "stream",
     "text": [
      "Multiplication Table for 1:\n",
      "1 x 1 = 1\n",
      "1 x 2 = 2\n",
      "1 x 3 = 3\n",
      "1 x 4 = 4\n",
      "1 x 5 = 5\n",
      "1 x 6 = 6\n",
      "1 x 7 = 7\n",
      "1 x 8 = 8\n",
      "1 x 9 = 9\n",
      "1 x 10 = 10\n",
      "\n",
      "Multiplication Table for 2:\n",
      "2 x 1 = 2\n",
      "2 x 2 = 4\n",
      "2 x 3 = 6\n",
      "2 x 4 = 8\n",
      "2 x 5 = 10\n",
      "2 x 6 = 12\n",
      "2 x 7 = 14\n",
      "2 x 8 = 16\n",
      "2 x 9 = 18\n",
      "2 x 10 = 20\n",
      "\n",
      "Multiplication Table for 3:\n",
      "3 x 1 = 3\n",
      "3 x 2 = 6\n",
      "3 x 3 = 9\n",
      "3 x 4 = 12\n",
      "3 x 5 = 15\n",
      "3 x 6 = 18\n",
      "3 x 7 = 21\n",
      "3 x 8 = 24\n",
      "3 x 9 = 27\n",
      "3 x 10 = 30\n",
      "\n",
      "Multiplication Table for 4:\n",
      "4 x 1 = 4\n",
      "4 x 2 = 8\n",
      "4 x 3 = 12\n",
      "4 x 4 = 16\n",
      "4 x 5 = 20\n",
      "4 x 6 = 24\n",
      "4 x 7 = 28\n",
      "4 x 8 = 32\n",
      "4 x 9 = 36\n",
      "4 x 10 = 40\n",
      "\n",
      "Multiplication Table for 5:\n",
      "5 x 1 = 5\n",
      "5 x 2 = 10\n",
      "5 x 3 = 15\n",
      "5 x 4 = 20\n",
      "5 x 5 = 25\n",
      "5 x 6 = 30\n",
      "5 x 7 = 35\n",
      "5 x 8 = 40\n",
      "5 x 9 = 45\n",
      "5 x 10 = 50\n",
      "\n"
     ]
    }
   ],
   "source": [
    "# Function to generate a multiplication table\n",
    "def generate_multiplication_table():\n",
    "    for i in range(1, 6):\n",
    "        print(f\"Multiplication Table for {i}:\")\n",
    "        for j in range(1, 11):\n",
    "            result = i * j\n",
    "            print(f\"{i} x {j} = {result}\")\n",
    "        print()  # Add an empty line between tables for better readability\n",
    "\n",
    "# Call the function to generate the multiplication table\n",
    "generate_multiplication_table()\n"
   ]
  },
  {
   "cell_type": "code",
   "execution_count": null,
   "id": "542b787d-529b-4091-ba92-e9844c4ba90c",
   "metadata": {},
   "outputs": [],
   "source": []
  },
  {
   "cell_type": "markdown",
   "id": "1bc61646-ac49-499d-ac91-2929c4bad47f",
   "metadata": {},
   "source": [
    "17. Write a program that converts a list of Fahrenheit temperatures to Celsius using a `for` loop.\n",
    "\n"
   ]
  },
  {
   "cell_type": "markdown",
   "id": "ffae3e95-2885-4d77-a81b-7961d4f057f2",
   "metadata": {},
   "source": [
    "Ans."
   ]
  },
  {
   "cell_type": "code",
   "execution_count": 7,
   "id": "e864dcb8-e105-4dde-b1eb-2a62e8b1f2f8",
   "metadata": {},
   "outputs": [
    {
     "name": "stdout",
     "output_type": "stream",
     "text": [
      "Fahrenheit Temperatures: [32, 68, 104, 212]\n",
      "Celsius Temperatures: [0.0, 20.0, 40.0, 100.0]\n"
     ]
    }
   ],
   "source": [
    "# Function to convert Fahrenheit temperatures to Celsius\n",
    "def fahrenheit_to_celsius(fahrenheit_temps):\n",
    "    celsius_temps = []\n",
    "\n",
    "    for fahrenheit in fahrenheit_temps:\n",
    "        celsius = (fahrenheit - 32) * 5/9\n",
    "        celsius_temps.append(celsius)\n",
    "\n",
    "    return celsius_temps\n",
    "\n",
    "# Example list of Fahrenheit temperatures\n",
    "fahrenheit_temperatures = [32, 68, 104, 212]\n",
    "\n",
    "# Convert and print the temperatures in Celsius\n",
    "celsius_temperatures = fahrenheit_to_celsius(fahrenheit_temperatures)\n",
    "\n",
    "print(\"Fahrenheit Temperatures:\", fahrenheit_temperatures)\n",
    "print(\"Celsius Temperatures:\", celsius_temperatures)\n"
   ]
  },
  {
   "cell_type": "code",
   "execution_count": null,
   "id": "c36665f3-5d5f-4234-8229-d39a068a6741",
   "metadata": {},
   "outputs": [],
   "source": []
  },
  {
   "cell_type": "markdown",
   "id": "c31e2a7c-b20f-4b90-9d03-bd0a8025d98a",
   "metadata": {},
   "source": [
    "18. Create a program to print the common elements from two lists using a `for` loop."
   ]
  },
  {
   "cell_type": "markdown",
   "id": "be759961-bc6e-4234-aa66-05fa4a858afb",
   "metadata": {},
   "source": [
    "Ans."
   ]
  },
  {
   "cell_type": "code",
   "execution_count": 8,
   "id": "9ee4fc59-2468-4fe7-9aee-861ab39df50e",
   "metadata": {},
   "outputs": [
    {
     "name": "stdout",
     "output_type": "stream",
     "text": [
      "Common elements: [3, 4, 5]\n"
     ]
    }
   ],
   "source": [
    "# Function to find common elements between two lists\n",
    "def find_common_elements(list1, list2):\n",
    "    common_elements = []\n",
    "\n",
    "    for element in list1:\n",
    "        if element in list2 and element not in common_elements:\n",
    "            common_elements.append(element)\n",
    "\n",
    "    return common_elements\n",
    "\n",
    "# Example lists\n",
    "list1 = [1, 2, 3, 4, 5]\n",
    "list2 = [3, 4, 5, 6, 7]\n",
    "\n",
    "# Find and print common elements\n",
    "common_elements = find_common_elements(list1, list2)\n",
    "\n",
    "if common_elements:\n",
    "    print(\"Common elements:\", common_elements)\n",
    "else:\n",
    "    print(\"No common elements found.\")\n"
   ]
  },
  {
   "cell_type": "code",
   "execution_count": null,
   "id": "35471f16-7fec-454b-abcf-7eb48621f3bb",
   "metadata": {},
   "outputs": [],
   "source": []
  },
  {
   "cell_type": "markdown",
   "id": "3658a820-5bf6-42cb-b388-beb0a55bcb6f",
   "metadata": {},
   "source": [
    "19. Develop a program that prints the pattern of right-angled triangles using a `for` loop. Use ‘*’ to draw the\n",
    "pattern"
   ]
  },
  {
   "cell_type": "markdown",
   "id": "a7110bd9-a583-469b-917f-f9f95f8b5bcd",
   "metadata": {},
   "source": [
    "Ans."
   ]
  },
  {
   "cell_type": "code",
   "execution_count": 9,
   "id": "81614458-e029-4d98-a0c6-b0460a741018",
   "metadata": {},
   "outputs": [
    {
     "name": "stdout",
     "output_type": "stream",
     "text": [
      "* \n",
      "* * \n",
      "* * * \n",
      "* * * * \n",
      "* * * * * \n"
     ]
    }
   ],
   "source": [
    "# Function to print a right-angled triangle pattern\n",
    "def print_right_triangle_pattern(rows):\n",
    "    for i in range(1, rows + 1):\n",
    "        print('* ' * i)\n",
    "\n",
    "# Example usage with 5 rows\n",
    "print_right_triangle_pattern(5)\n"
   ]
  },
  {
   "cell_type": "code",
   "execution_count": null,
   "id": "b264583a-4782-4c39-a4ce-8292581a9bdc",
   "metadata": {},
   "outputs": [],
   "source": []
  },
  {
   "cell_type": "markdown",
   "id": "47fccc4b-9d8b-4806-8184-e2dc09bc687b",
   "metadata": {},
   "source": [
    "20. Write a program to find the greatest common divisor (GCD) of two numbers using a `for` loop."
   ]
  },
  {
   "cell_type": "markdown",
   "id": "535dec09-8be5-4c09-b7d0-851983559885",
   "metadata": {},
   "source": [
    "Ans."
   ]
  },
  {
   "cell_type": "code",
   "execution_count": 10,
   "id": "ef0b2db9-61eb-465d-aaf2-670a5380be33",
   "metadata": {},
   "outputs": [
    {
     "name": "stdin",
     "output_type": "stream",
     "text": [
      "Enter the first number:  52\n",
      "Enter the second number:  45\n"
     ]
    },
    {
     "name": "stdout",
     "output_type": "stream",
     "text": [
      "The GCD of 52 and 45 is: 1\n"
     ]
    }
   ],
   "source": [
    "# Function to find the GCD of two numbers\n",
    "def find_gcd(num1, num2):\n",
    "    # Ensure num1 is greater than or equal to num2\n",
    "    if num1 < num2:\n",
    "        num1, num2 = num2, num1\n",
    "\n",
    "    for i in range(num2, 0, -1):\n",
    "        if num1 % i == 0 and num2 % i == 0:\n",
    "            return i\n",
    "\n",
    "    return 1  # If no common divisor is found, the GCD is 1\n",
    "\n",
    "# Example usage\n",
    "number1 = int(input(\"Enter the first number: \"))\n",
    "number2 = int(input(\"Enter the second number: \"))\n",
    "\n",
    "gcd_result = find_gcd(number1, number2)\n",
    "\n",
    "print(f\"The GCD of {number1} and {number2} is: {gcd_result}\")\n"
   ]
  },
  {
   "cell_type": "code",
   "execution_count": null,
   "id": "9bf49235-faed-4a81-b46c-4d9086a75bcb",
   "metadata": {},
   "outputs": [],
   "source": []
  },
  {
   "cell_type": "markdown",
   "id": "7da62609-3d18-48be-8e89-88e2499e1121",
   "metadata": {},
   "source": [
    "21. Create a program that calculates the sum of the digits of numbers in a list using a list comprehension."
   ]
  },
  {
   "cell_type": "markdown",
   "id": "8b1ab355-0516-4d9d-8147-1c08d252c82a",
   "metadata": {},
   "source": [
    "Ans."
   ]
  },
  {
   "cell_type": "code",
   "execution_count": 11,
   "id": "4e1393dc-32f9-466e-86e1-1e46c2e603da",
   "metadata": {},
   "outputs": [
    {
     "name": "stdout",
     "output_type": "stream",
     "text": [
      "Numbers List: [123, 456, 789, -321]\n",
      "Sum of Digits: [6, 15, 24, 6]\n"
     ]
    }
   ],
   "source": [
    "# Function to calculate the sum of digits of a number\n",
    "def sum_of_digits(number):\n",
    "    return sum(int(digit) for digit in str(abs(number)))\n",
    "\n",
    "# List of numbers\n",
    "numbers_list = [123, 456, 789, -321]\n",
    "\n",
    "# Calculate and print the sum of digits for each number in the list\n",
    "sums = [sum_of_digits(num) for num in numbers_list]\n",
    "\n",
    "print(\"Numbers List:\", numbers_list)\n",
    "print(\"Sum of Digits:\", sums)\n"
   ]
  },
  {
   "cell_type": "code",
   "execution_count": null,
   "id": "d37ab852-d1cc-4990-b416-ab2dc203e5c6",
   "metadata": {},
   "outputs": [],
   "source": []
  },
  {
   "cell_type": "markdown",
   "id": "69cf9708-624a-43b2-8e54-ae8636b75638",
   "metadata": {},
   "source": [
    "22. Write a program to find the prime factors of a given number using a `for` loop and list comprehension."
   ]
  },
  {
   "cell_type": "markdown",
   "id": "0a3f8ed2-5d31-4b9f-baa3-fe9868b3cf55",
   "metadata": {},
   "source": [
    "Ans."
   ]
  },
  {
   "cell_type": "code",
   "execution_count": 13,
   "id": "8b766d3d-c31b-431c-88b9-801015e7c1c4",
   "metadata": {},
   "outputs": [
    {
     "name": "stdin",
     "output_type": "stream",
     "text": [
      "Enter a number:  52\n"
     ]
    },
    {
     "name": "stdout",
     "output_type": "stream",
     "text": [
      "Prime factors of 52: [2, 13]\n"
     ]
    }
   ],
   "source": [
    "# Function to find prime factors of a number\n",
    "def prime_factors(number):\n",
    "    factors = [i for i in range(2, number + 1) if number % i == 0 and all(i % j != 0 for j in range(2, int(i**0.5) + 1))]\n",
    "    return factors\n",
    "\n",
    "# Example usage\n",
    "user_input = int(input(\"Enter a number: \"))\n",
    "\n",
    "if user_input < 2:\n",
    "    print(\"Prime factors are not defined for numbers less than 2.\")\n",
    "else:\n",
    "    factors_result = prime_factors(user_input)\n",
    "    print(f\"Prime factors of {user_input}: {factors_result}\")\n"
   ]
  },
  {
   "cell_type": "code",
   "execution_count": null,
   "id": "34f87a3c-c7b6-4777-8d8a-7f03a435b080",
   "metadata": {},
   "outputs": [],
   "source": []
  },
  {
   "cell_type": "markdown",
   "id": "7a01b33c-2c15-4375-8f29-f793f26781e2",
   "metadata": {},
   "source": [
    "23. Develop a program that extracts unique elements from a list and stores them in a new list using a list\n",
    "comprehension."
   ]
  },
  {
   "cell_type": "markdown",
   "id": "22cd8dc6-9e63-4525-bb5b-f9e40aa61243",
   "metadata": {},
   "source": [
    "Ans."
   ]
  },
  {
   "cell_type": "code",
   "execution_count": 14,
   "id": "51b9403b-2d59-491e-852b-c66cffd092cf",
   "metadata": {},
   "outputs": [
    {
     "name": "stdout",
     "output_type": "stream",
     "text": [
      "Original List: [1, 2, 3, 4, 2, 5, 2, 6, 3, 7]\n",
      "Unique Elements: [1, 2, 3, 4, 5, 6, 7]\n"
     ]
    }
   ],
   "source": [
    "# Function to extract unique elements from a list\n",
    "def extract_unique_elements(input_list):\n",
    "    return list(set(input_list))\n",
    "\n",
    "# Example usage\n",
    "original_list = [1, 2, 3, 4, 2, 5, 2, 6, 3, 7]\n",
    "unique_elements = extract_unique_elements(original_list)\n",
    "\n",
    "print(\"Original List:\", original_list)\n",
    "print(\"Unique Elements:\", unique_elements)\n"
   ]
  },
  {
   "cell_type": "code",
   "execution_count": null,
   "id": "e1b5dea0-59b2-4095-89ba-a18436ffc40d",
   "metadata": {},
   "outputs": [],
   "source": []
  },
  {
   "cell_type": "markdown",
   "id": "c0198e33-3f11-4474-a23d-880ad506559f",
   "metadata": {},
   "source": [
    "24. Create a program that generates a list of all palindromic numbers up to a specified limit using a list\n",
    "comprehension."
   ]
  },
  {
   "cell_type": "markdown",
   "id": "5b2d6aad-c9d9-4b7a-ab33-1a2880107b83",
   "metadata": {},
   "source": [
    "Ans."
   ]
  },
  {
   "cell_type": "code",
   "execution_count": 17,
   "id": "01627949-60e5-446d-b37e-30f50b69ed89",
   "metadata": {},
   "outputs": [
    {
     "name": "stdin",
     "output_type": "stream",
     "text": [
      "Enter the limit:  4664\n"
     ]
    },
    {
     "name": "stdout",
     "output_type": "stream",
     "text": [
      "Palindromic Numbers up to 4664: [0, 1, 2, 3, 4, 5, 6, 7, 8, 9, 11, 22, 33, 44, 55, 66, 77, 88, 99, 101, 111, 121, 131, 141, 151, 161, 171, 181, 191, 202, 212, 222, 232, 242, 252, 262, 272, 282, 292, 303, 313, 323, 333, 343, 353, 363, 373, 383, 393, 404, 414, 424, 434, 444, 454, 464, 474, 484, 494, 505, 515, 525, 535, 545, 555, 565, 575, 585, 595, 606, 616, 626, 636, 646, 656, 666, 676, 686, 696, 707, 717, 727, 737, 747, 757, 767, 777, 787, 797, 808, 818, 828, 838, 848, 858, 868, 878, 888, 898, 909, 919, 929, 939, 949, 959, 969, 979, 989, 999, 1001, 1111, 1221, 1331, 1441, 1551, 1661, 1771, 1881, 1991, 2002, 2112, 2222, 2332, 2442, 2552, 2662, 2772, 2882, 2992, 3003, 3113, 3223, 3333, 3443, 3553, 3663, 3773, 3883, 3993, 4004, 4114, 4224, 4334, 4444, 4554]\n"
     ]
    }
   ],
   "source": [
    "# Function to check if a number is palindromic\n",
    "def is_palindromic(number):\n",
    "    return str(number) == str(number)[::-1]\n",
    "\n",
    "# Function to generate a list of palindromic numbers up to a limit\n",
    "def generate_palindromic_numbers(limit):\n",
    "    return [num for num in range(limit) if is_palindromic(num)]\n",
    "\n",
    "# Example usage\n",
    "user_limit = int(input(\"Enter the limit: \"))\n",
    "\n",
    "palindromic_numbers = generate_palindromic_numbers(user_limit)\n",
    "\n",
    "print(f\"Palindromic Numbers up to {user_limit}: {palindromic_numbers}\")\n"
   ]
  },
  {
   "cell_type": "code",
   "execution_count": null,
   "id": "f46b4f38-ecda-4fdc-bee9-7dc14b285b16",
   "metadata": {},
   "outputs": [],
   "source": []
  },
  {
   "cell_type": "markdown",
   "id": "d2b50ed6-86e1-4a30-ac38-c3a081baea68",
   "metadata": {},
   "source": [
    "25. Write a program to flatten a nested list using list comprehension."
   ]
  },
  {
   "cell_type": "markdown",
   "id": "b61d97c0-0ef7-4755-8c81-b2f0d65f863a",
   "metadata": {},
   "source": [
    "Ans."
   ]
  },
  {
   "cell_type": "code",
   "execution_count": 18,
   "id": "eeed9130-d104-4170-831a-3e80b2acd051",
   "metadata": {},
   "outputs": [
    {
     "name": "stdout",
     "output_type": "stream",
     "text": [
      "Nested List: [[1, 2, 3], [4, 5], [6, 7, 8]]\n",
      "Flattened List: [1, 2, 3, 4, 5, 6, 7, 8]\n"
     ]
    }
   ],
   "source": [
    "# Function to flatten a nested list\n",
    "def flatten_nested_list(nested_list):\n",
    "    return [element for sublist in nested_list for element in sublist]\n",
    "\n",
    "# Example nested list\n",
    "nested_list = [[1, 2, 3], [4, 5], [6, 7, 8]]\n",
    "\n",
    "# Flatten the nested list\n",
    "flattened_list = flatten_nested_list(nested_list)\n",
    "\n",
    "print(\"Nested List:\", nested_list)\n",
    "print(\"Flattened List:\", flattened_list)\n"
   ]
  },
  {
   "cell_type": "code",
   "execution_count": null,
   "id": "36c4c344-b08a-4510-9198-6982595a8f54",
   "metadata": {},
   "outputs": [],
   "source": []
  },
  {
   "cell_type": "markdown",
   "id": "1f5632bb-27a7-44ed-b343-578752caa38d",
   "metadata": {},
   "source": [
    "26. Develop a program that computes the sum of even and odd numbers in a list separately using list\n",
    "comprehension."
   ]
  },
  {
   "cell_type": "markdown",
   "id": "bc14e636-7fc1-4b1a-a772-841985c28390",
   "metadata": {},
   "source": [
    "Ans."
   ]
  },
  {
   "cell_type": "code",
   "execution_count": 19,
   "id": "e8a08657-e459-49ae-937d-1776549e32ea",
   "metadata": {},
   "outputs": [
    {
     "name": "stdout",
     "output_type": "stream",
     "text": [
      "Original List: [1, 2, 3, 4, 5, 6, 7, 8, 9, 10]\n",
      "Sum of Even Numbers: 30\n",
      "Sum of Odd Numbers: 25\n"
     ]
    }
   ],
   "source": [
    "# Function to compute the sum of even and odd numbers separately\n",
    "def compute_sum_even_odd(numbers):\n",
    "    even_sum = sum([num for num in numbers if num % 2 == 0])\n",
    "    odd_sum = sum([num for num in numbers if num % 2 != 0])\n",
    "    return even_sum, odd_sum\n",
    "\n",
    "# Example usage\n",
    "numbers_list = [1, 2, 3, 4, 5, 6, 7, 8, 9, 10]\n",
    "\n",
    "even_sum, odd_sum = compute_sum_even_odd(numbers_list)\n",
    "\n",
    "print(\"Original List:\", numbers_list)\n",
    "print(\"Sum of Even Numbers:\", even_sum)\n",
    "print(\"Sum of Odd Numbers:\", odd_sum)\n"
   ]
  },
  {
   "cell_type": "code",
   "execution_count": null,
   "id": "d8a2da77-f266-412d-a797-66871b8b1361",
   "metadata": {},
   "outputs": [],
   "source": []
  },
  {
   "cell_type": "markdown",
   "id": "f9e256af-e4ce-4085-83d7-e55a849712ca",
   "metadata": {},
   "source": [
    "27. Create a program that generates a list of squares of odd numbers between 1 and 10 using list\n",
    "comprehension."
   ]
  },
  {
   "cell_type": "markdown",
   "id": "d1e72544-338e-4fe4-8258-e5834198a668",
   "metadata": {},
   "source": [
    "Ans."
   ]
  },
  {
   "cell_type": "code",
   "execution_count": 20,
   "id": "b2d5fd6f-c6df-45bd-ab17-06db0dd4a0ac",
   "metadata": {},
   "outputs": [
    {
     "name": "stdout",
     "output_type": "stream",
     "text": [
      "Squares of Odd Numbers between 1 and 10: [1, 9, 25, 49, 81]\n"
     ]
    }
   ],
   "source": [
    "# List comprehension to generate squares of odd numbers between 1 and 10\n",
    "squares_of_odd_numbers = [num**2 for num in range(1, 11) if num % 2 != 0]\n",
    "\n",
    "# Print the result\n",
    "print(\"Squares of Odd Numbers between 1 and 10:\", squares_of_odd_numbers)\n"
   ]
  },
  {
   "cell_type": "code",
   "execution_count": null,
   "id": "2704d995-d453-4d7e-a80e-821102a16046",
   "metadata": {},
   "outputs": [],
   "source": []
  },
  {
   "cell_type": "markdown",
   "id": "a05148a8-40a0-4747-b163-d9d1478e4472",
   "metadata": {},
   "source": [
    "28. Write a program that combines two lists into a dictionary using list comprehension."
   ]
  },
  {
   "cell_type": "markdown",
   "id": "4df2dcfb-8944-4f5c-9a5b-2b3c57ad21d8",
   "metadata": {},
   "source": [
    "Ans."
   ]
  },
  {
   "cell_type": "code",
   "execution_count": 21,
   "id": "ad6f6d1a-8a9f-4ad3-a2e6-b83947da2ac2",
   "metadata": {},
   "outputs": [
    {
     "name": "stdout",
     "output_type": "stream",
     "text": [
      "Combined Dictionary: {'name': 'John', 'age': 25, 'city': 'New York'}\n"
     ]
    }
   ],
   "source": [
    "# Function to combine two lists into a dictionary\n",
    "def combine_lists_to_dict(keys, values):\n",
    "    return {keys[i]: values[i] for i in range(min(len(keys), len(values)))}\n",
    "\n",
    "# Example usage\n",
    "keys_list = ['name', 'age', 'city']\n",
    "values_list = ['John', 25, 'New York']\n",
    "\n",
    "combined_dict = combine_lists_to_dict(keys_list, values_list)\n",
    "\n",
    "print(\"Combined Dictionary:\", combined_dict)\n"
   ]
  },
  {
   "cell_type": "code",
   "execution_count": null,
   "id": "5f6f4d70-dd3a-4ec6-8601-03df4d516d85",
   "metadata": {},
   "outputs": [],
   "source": []
  },
  {
   "cell_type": "markdown",
   "id": "22e4aaa2-c7b5-4f46-af7b-721552dbfe6e",
   "metadata": {},
   "source": [
    "29. Develop a program that extracts the vowels from a string and stores them in a list using list comprehension."
   ]
  },
  {
   "cell_type": "markdown",
   "id": "c4e5acd8-fd6d-41ce-b0ed-c2f31ad56b31",
   "metadata": {},
   "source": [
    "Ans."
   ]
  },
  {
   "cell_type": "code",
   "execution_count": 22,
   "id": "8cea2881-76a1-4bc8-a4ff-a0128af39f87",
   "metadata": {},
   "outputs": [
    {
     "name": "stdin",
     "output_type": "stream",
     "text": [
      "Enter a string:  jigjn\n"
     ]
    },
    {
     "name": "stdout",
     "output_type": "stream",
     "text": [
      "Original String: jigjn\n",
      "Vowels List: ['i']\n"
     ]
    }
   ],
   "source": [
    "# Function to extract vowels from a string\n",
    "def extract_vowels(input_string):\n",
    "    vowels = 'aeiouAEIOU'\n",
    "    return [char for char in input_string if char in vowels]\n",
    "\n",
    "# Example usage\n",
    "user_input = input(\"Enter a string: \")\n",
    "\n",
    "vowels_list = extract_vowels(user_input)\n",
    "\n",
    "print(\"Original String:\", user_input)\n",
    "print(\"Vowels List:\", vowels_list)\n"
   ]
  },
  {
   "cell_type": "code",
   "execution_count": null,
   "id": "0540d664-6a16-472d-899c-3f59253ecce4",
   "metadata": {},
   "outputs": [],
   "source": []
  },
  {
   "cell_type": "markdown",
   "id": "4b3f6173-f4b8-4b37-bc79-f21b8679ec79",
   "metadata": {},
   "source": [
    "30. Create a program that removes all non-numeric characters from a list of strings using list comprehension."
   ]
  },
  {
   "cell_type": "markdown",
   "id": "a65a8098-5895-4a40-8a9f-87ab0d2d8895",
   "metadata": {},
   "source": [
    "Ans."
   ]
  },
  {
   "cell_type": "code",
   "execution_count": 23,
   "id": "dde9fb46-56ff-4cc0-9da5-61132fd35293",
   "metadata": {},
   "outputs": [
    {
     "name": "stdout",
     "output_type": "stream",
     "text": [
      "Original Strings: ['abc123', '456xyz', '789', 'hello123']\n",
      "Numeric Strings: ['123', '456', '789', '123']\n"
     ]
    }
   ],
   "source": [
    "# Function to remove non-numeric characters from a list of strings\n",
    "def remove_non_numeric(strings_list):\n",
    "    return [''.join(char for char in string if char.isnumeric()) for string in strings_list]\n",
    "\n",
    "# Example usage\n",
    "original_strings = ['abc123', '456xyz', '789', 'hello123']\n",
    "\n",
    "numeric_strings = remove_non_numeric(original_strings)\n",
    "\n",
    "print(\"Original Strings:\", original_strings)\n",
    "print(\"Numeric Strings:\", numeric_strings)\n"
   ]
  },
  {
   "cell_type": "code",
   "execution_count": null,
   "id": "628e852d-1328-45e7-a915-501ecccdfef8",
   "metadata": {},
   "outputs": [],
   "source": []
  },
  {
   "cell_type": "markdown",
   "id": "98e803a2-4357-414b-8f7f-d42c36321155",
   "metadata": {},
   "source": [
    "31. Write a program to generate a list of prime numbers using the Sieve of Eratosthenes algorithm and list\n",
    "comprehension."
   ]
  },
  {
   "cell_type": "markdown",
   "id": "e96a51bc-d5c7-4372-98bf-57c72caec629",
   "metadata": {},
   "source": [
    "Ans."
   ]
  },
  {
   "cell_type": "code",
   "execution_count": 26,
   "id": "328ab3e3-c55c-4246-8738-4bf5a183e748",
   "metadata": {},
   "outputs": [
    {
     "name": "stdin",
     "output_type": "stream",
     "text": [
      "Enter the limit:  44\n"
     ]
    },
    {
     "name": "stdout",
     "output_type": "stream",
     "text": [
      "Prime Numbers up to 44: [2, 3, 5, 7, 11, 13, 17, 19, 23, 29, 31, 37, 41, 43]\n"
     ]
    }
   ],
   "source": [
    "# Function to generate a list of prime numbers using Sieve of Eratosthenes\n",
    "def sieve_of_eratosthenes(limit):\n",
    "    primes = [True] * (limit + 1)\n",
    "    primes[0] = primes[1] = False\n",
    "\n",
    "    for i in range(2, int(limit**0.5) + 1):\n",
    "        if primes[i]:\n",
    "            primes[i*i : limit + 1 : i] = [False] * len(range(i*i, limit + 1, i))\n",
    "\n",
    "    return [num for num in range(2, limit + 1) if primes[num]]\n",
    "\n",
    "# Example usage\n",
    "user_limit = int(input(\"Enter the limit: \"))\n",
    "\n",
    "prime_numbers = sieve_of_eratosthenes(user_limit)\n",
    "\n",
    "print(f\"Prime Numbers up to {user_limit}: {prime_numbers}\")\n"
   ]
  },
  {
   "cell_type": "code",
   "execution_count": null,
   "id": "ac1beda1-5552-475a-90f2-81028b4ed283",
   "metadata": {},
   "outputs": [],
   "source": []
  },
  {
   "cell_type": "markdown",
   "id": "532e4179-37ec-4fa2-b1b7-8f642b6e2175",
   "metadata": {},
   "source": [
    "32. Create a program that generates a list of all Pythagorean triplets up to a specified limit using list\n",
    "comprehension."
   ]
  },
  {
   "cell_type": "markdown",
   "id": "7554b783-5e7c-4556-a955-b9317ac70c3b",
   "metadata": {},
   "source": [
    "Ans."
   ]
  },
  {
   "cell_type": "code",
   "execution_count": 28,
   "id": "c1d46899-73ad-4ae1-8e6c-984b06895424",
   "metadata": {},
   "outputs": [
    {
     "name": "stdin",
     "output_type": "stream",
     "text": [
      "Enter the limit:  5\n"
     ]
    },
    {
     "name": "stdout",
     "output_type": "stream",
     "text": [
      "Pythagorean Triplets up to 5: []\n"
     ]
    }
   ],
   "source": [
    "# Function to generate a list of Pythagorean triplets up to a limit\n",
    "def generate_pythagorean_triplets(limit):\n",
    "    triplets = [(a, b, c) for a in range(1, limit) for b in range(a, limit) for c in range(b, limit) if a**2 + b**2 == c**2]\n",
    "    return triplets\n",
    "\n",
    "# Example usage\n",
    "user_limit = int(input(\"Enter the limit: \"))\n",
    "\n",
    "pythagorean_triplets = generate_pythagorean_triplets(user_limit)\n",
    "\n",
    "print(f\"Pythagorean Triplets up to {user_limit}: {pythagorean_triplets}\")\n"
   ]
  },
  {
   "cell_type": "code",
   "execution_count": null,
   "id": "b7fa5676-636d-4adf-8b9f-afdd7e23866a",
   "metadata": {},
   "outputs": [],
   "source": []
  },
  {
   "cell_type": "markdown",
   "id": "d5b06e88-e316-491c-8c7b-7351ce579a68",
   "metadata": {},
   "source": [
    "33. Develop a program that generates a list of all possible combinations of two lists using list comprehension.\n",
    "\n"
   ]
  },
  {
   "cell_type": "markdown",
   "id": "2b493f14-fe19-4bef-8ec9-deaab7b63c03",
   "metadata": {},
   "source": [
    "Ans."
   ]
  },
  {
   "cell_type": "code",
   "execution_count": 29,
   "id": "45e2d4f3-51b8-4b13-85e4-e09e6911ae52",
   "metadata": {},
   "outputs": [
    {
     "name": "stdout",
     "output_type": "stream",
     "text": [
      "Combinations of [1, 2, 3] and ['a', 'b']: [(1, 'a'), (1, 'b'), (2, 'a'), (2, 'b'), (3, 'a'), (3, 'b')]\n"
     ]
    }
   ],
   "source": [
    "# Function to generate all possible combinations of two lists\n",
    "def generate_combinations(list1, list2):\n",
    "    return [(item1, item2) for item1 in list1 for item2 in list2]\n",
    "\n",
    "# Example usage\n",
    "list_a = [1, 2, 3]\n",
    "list_b = ['a', 'b']\n",
    "\n",
    "combinations_list = generate_combinations(list_a, list_b)\n",
    "\n",
    "print(f\"Combinations of {list_a} and {list_b}: {combinations_list}\")\n"
   ]
  },
  {
   "cell_type": "code",
   "execution_count": null,
   "id": "abbfb787-9c63-4dab-99a7-310b77720ecd",
   "metadata": {},
   "outputs": [],
   "source": []
  },
  {
   "cell_type": "markdown",
   "id": "a02e9626-51d9-4b7e-97a8-5c0d82ba7607",
   "metadata": {},
   "source": [
    "34. Write a program that calculates the mean, median, and mode of a list of numbers using list\n",
    "comprehension.\n",
    "\n"
   ]
  },
  {
   "cell_type": "markdown",
   "id": "e01e4dee-362c-4b3b-b881-1f1aa932baf8",
   "metadata": {},
   "source": [
    "Ans."
   ]
  },
  {
   "cell_type": "code",
   "execution_count": 30,
   "id": "b0cd7533-5c56-4281-bdfe-8594b3c49575",
   "metadata": {},
   "outputs": [
    {
     "name": "stdout",
     "output_type": "stream",
     "text": [
      "Original List: [2, 3, 5, 6, 8, 5, 3, 2, 9, 4, 6, 7, 2, 8, 3, 5, 4, 1]\n",
      "Mean: 4.611111111111111\n",
      "Median: 4.5\n",
      "Mode: 2\n"
     ]
    }
   ],
   "source": [
    "from statistics import mean, median, mode\n",
    "\n",
    "# Example list of numbers\n",
    "numbers_list = [2, 3, 5, 6, 8, 5, 3, 2, 9, 4, 6, 7, 2, 8, 3, 5, 4, 1]\n",
    "\n",
    "# Calculate mean, median, and mode using list comprehension\n",
    "mean_value = mean(numbers_list)\n",
    "median_value = median(numbers_list)\n",
    "mode_value = mode(numbers_list)\n",
    "\n",
    "print(f\"Original List: {numbers_list}\")\n",
    "print(f\"Mean: {mean_value}\")\n",
    "print(f\"Median: {median_value}\")\n",
    "print(f\"Mode: {mode_value}\")\n"
   ]
  },
  {
   "cell_type": "code",
   "execution_count": null,
   "id": "0dccba73-3bda-4ece-8326-a360060f9b29",
   "metadata": {},
   "outputs": [],
   "source": []
  },
  {
   "cell_type": "markdown",
   "id": "3b846446-ef2b-4ed8-bd30-2f494d98cc4b",
   "metadata": {},
   "source": [
    "\n",
    "35. Create a program that generates Pascal's triangle up to a specified number of rows using list\n",
    "comprehension."
   ]
  },
  {
   "cell_type": "markdown",
   "id": "29d12d95-b05d-4d52-9829-de02e1c06fc9",
   "metadata": {},
   "source": [
    "Ans."
   ]
  },
  {
   "cell_type": "code",
   "execution_count": 34,
   "id": "08e20646-5a5d-4a8a-b192-0a7fbc1f4cae",
   "metadata": {},
   "outputs": [
    {
     "name": "stdin",
     "output_type": "stream",
     "text": [
      "Enter the number of rows for Pascal's triangle:  x\n"
     ]
    },
    {
     "ename": "ValueError",
     "evalue": "invalid literal for int() with base 10: 'x'",
     "output_type": "error",
     "traceback": [
      "\u001b[0;31m---------------------------------------------------------------------------\u001b[0m",
      "\u001b[0;31mValueError\u001b[0m                                Traceback (most recent call last)",
      "Cell \u001b[0;32mIn[34], line 7\u001b[0m\n\u001b[1;32m      4\u001b[0m     \u001b[38;5;28;01mreturn\u001b[39;00m triangle\n\u001b[1;32m      6\u001b[0m \u001b[38;5;66;03m# Example usage\u001b[39;00m\n\u001b[0;32m----> 7\u001b[0m user_rows \u001b[38;5;241m=\u001b[39m \u001b[38;5;28;43mint\u001b[39;49m\u001b[43m(\u001b[49m\u001b[38;5;28;43minput\u001b[39;49m\u001b[43m(\u001b[49m\u001b[38;5;124;43m\"\u001b[39;49m\u001b[38;5;124;43mEnter the number of rows for Pascal\u001b[39;49m\u001b[38;5;124;43m'\u001b[39;49m\u001b[38;5;124;43ms triangle: \u001b[39;49m\u001b[38;5;124;43m\"\u001b[39;49m\u001b[43m)\u001b[49m\u001b[43m)\u001b[49m\n\u001b[1;32m      9\u001b[0m pascals_triangle \u001b[38;5;241m=\u001b[39m generate_pascals_triangle(user_rows)\n\u001b[1;32m     11\u001b[0m \u001b[38;5;66;03m# Print Pascal's triangle\u001b[39;00m\n",
      "\u001b[0;31mValueError\u001b[0m: invalid literal for int() with base 10: 'x'"
     ]
    }
   ],
   "source": [
    "# Function to generate Pascal's triangle up to a specified number of rows\n",
    "def generate_pascals_triangle(rows):\n",
    "    triangle = [[1] if i == 0 else [1, 1] if i == 1 else [1] + [triangle[i-1][j-1] + triangle[i-1][j] for j in range(1, i)] + [1] for i in range(rows)]\n",
    "    return triangle\n",
    "\n",
    "# Example usage\n",
    "user_rows = int(input(\"Enter the number of rows for Pascal's triangle: \"))\n",
    "\n",
    "pascals_triangle = generate_pascals_triangle(user_rows)\n",
    "\n",
    "# Print Pascal's triangle\n",
    "for row in pascals_triangle:\n",
    "    print(row)\n"
   ]
  },
  {
   "cell_type": "code",
   "execution_count": null,
   "id": "304ad08d-576a-48e2-980a-3665cde18f82",
   "metadata": {},
   "outputs": [],
   "source": []
  },
  {
   "cell_type": "markdown",
   "id": "c8c9c9b2-df88-40da-850f-8ed8d1ae9758",
   "metadata": {},
   "source": [
    "36. Develop a program that calculates the sum of the digits of a factorial of numbers from 1 to 5 using list\n",
    "comprehension."
   ]
  },
  {
   "cell_type": "markdown",
   "id": "34090c12-100f-421e-a705-0d088ad0d6bd",
   "metadata": {},
   "source": [
    "Ans."
   ]
  },
  {
   "cell_type": "code",
   "execution_count": 36,
   "id": "7232aa62-1432-43a8-b4d4-1ad3d7012fdc",
   "metadata": {},
   "outputs": [
    {
     "name": "stdout",
     "output_type": "stream",
     "text": [
      "Factorial of 1: 1 | Sum of Digits: 1\n",
      "Factorial of 2: 2 | Sum of Digits: 2\n",
      "Factorial of 3: 6 | Sum of Digits: 6\n",
      "Factorial of 4: 24 | Sum of Digits: 6\n",
      "Factorial of 5: 120 | Sum of Digits: 3\n"
     ]
    }
   ],
   "source": [
    "# Function to calculate the factorial of a number\n",
    "def factorial(n):\n",
    "    if n == 0 or n == 1:\n",
    "        return 1\n",
    "    else:\n",
    "        return n * factorial(n-1)\n",
    "\n",
    "# Calculate the sum of digits of factorials from 1 to 5 using list comprehension\n",
    "sums_of_digits = [sum(int(digit) for digit in str(factorial(num))) for num in range(1, 6)]\n",
    "\n",
    "# Print the result\n",
    "for num, digit_sum in zip(range(1, 6), sums_of_digits):\n",
    "    print(f\"Factorial of {num}:\", factorial(num), \"| Sum of Digits:\", digit_sum)\n"
   ]
  },
  {
   "cell_type": "code",
   "execution_count": null,
   "id": "89a7d5c0-31a9-4557-a170-58d66a62e9ac",
   "metadata": {},
   "outputs": [],
   "source": []
  },
  {
   "cell_type": "markdown",
   "id": "f7cdee3a-f784-4619-8c20-c67685df0c65",
   "metadata": {},
   "source": [
    "37. Write a program that finds the longest word in a sentence using list comprehension.\n",
    "\n"
   ]
  },
  {
   "cell_type": "markdown",
   "id": "a411c136-6ef4-4fa8-b63c-8cf520a77342",
   "metadata": {},
   "source": [
    "Ans."
   ]
  },
  {
   "cell_type": "code",
   "execution_count": 37,
   "id": "4e47db15-a0ae-403c-b0e1-7a04babfcb39",
   "metadata": {},
   "outputs": [
    {
     "name": "stdin",
     "output_type": "stream",
     "text": [
      "Enter a sentence:  dvdvdszcd\n"
     ]
    },
    {
     "name": "stdout",
     "output_type": "stream",
     "text": [
      "The longest word in the sentence is: dvdvdszcd\n"
     ]
    }
   ],
   "source": [
    "# Function to find the longest word in a sentence\n",
    "def find_longest_word(sentence):\n",
    "    words = sentence.split()\n",
    "    longest_word = max(words, key=lambda word: len(word))\n",
    "    return longest_word\n",
    "\n",
    "# Example usage\n",
    "user_sentence = input(\"Enter a sentence: \")\n",
    "\n",
    "longest_word = find_longest_word(user_sentence)\n",
    "\n",
    "print(f\"The longest word in the sentence is: {longest_word}\")\n"
   ]
  },
  {
   "cell_type": "code",
   "execution_count": null,
   "id": "686797ae-dcdc-4e09-9187-ac22af227291",
   "metadata": {},
   "outputs": [],
   "source": []
  },
  {
   "cell_type": "markdown",
   "id": "3b6e2bb2-6d00-4135-9bfd-c78d64816dd1",
   "metadata": {},
   "source": [
    "38. Create a program that filters a list of strings to include only those with more than three vowels using list\n",
    "comprehension."
   ]
  },
  {
   "cell_type": "markdown",
   "id": "a1536417-7728-47c7-820a-c66d48903bdb",
   "metadata": {},
   "source": [
    "Ans."
   ]
  },
  {
   "cell_type": "code",
   "execution_count": 38,
   "id": "d35ce240-d0bc-4ce5-9bcf-5b59d0ab803d",
   "metadata": {},
   "outputs": [
    {
     "name": "stdout",
     "output_type": "stream",
     "text": [
      "Original List: ['hello', 'world', 'programming', 'python', 'list', 'comprehension']\n",
      "Filtered List (more than 3 vowels): ['comprehension']\n"
     ]
    }
   ],
   "source": [
    "# Function to count vowels in a string\n",
    "def count_vowels(word):\n",
    "    vowels = 'aeiouAEIOU'\n",
    "    return sum(1 for char in word if char in vowels)\n",
    "\n",
    "# List of strings\n",
    "string_list = ['hello', 'world', 'programming', 'python', 'list', 'comprehension']\n",
    "\n",
    "# Filter strings with more than three vowels using list comprehension\n",
    "filtered_strings = [word for word in string_list if count_vowels(word) > 3]\n",
    "\n",
    "# Print the result\n",
    "print(\"Original List:\", string_list)\n",
    "print(\"Filtered List (more than 3 vowels):\", filtered_strings)\n"
   ]
  },
  {
   "cell_type": "code",
   "execution_count": null,
   "id": "1d313ecb-746a-44e9-a27e-2551325fa78d",
   "metadata": {},
   "outputs": [],
   "source": []
  },
  {
   "cell_type": "markdown",
   "id": "2ed9b033-5db1-489a-ab15-e9d8f0cb7e07",
   "metadata": {},
   "source": [
    "\n",
    "39. Develop a program that calculates the sum of the digits of numbers from 1 to 1000 using list\n",
    "comprehension.\n",
    "\n"
   ]
  },
  {
   "cell_type": "markdown",
   "id": "1b7bf97a-bfd5-4a55-b73d-fc41e80fa568",
   "metadata": {},
   "source": [
    "Ans."
   ]
  },
  {
   "cell_type": "code",
   "execution_count": 39,
   "id": "0935b8a0-fbd9-4d14-9d73-a29c7d98f456",
   "metadata": {},
   "outputs": [
    {
     "name": "stdout",
     "output_type": "stream",
     "text": [
      "Sum of Digits for Numbers from 1 to 1000: [1, 2, 3, 4, 5, 6, 7, 8, 9, 1, 2, 3, 4, 5, 6, 7, 8, 9, 10, 2, 3, 4, 5, 6, 7, 8, 9, 10, 11, 3, 4, 5, 6, 7, 8, 9, 10, 11, 12, 4, 5, 6, 7, 8, 9, 10, 11, 12, 13, 5, 6, 7, 8, 9, 10, 11, 12, 13, 14, 6, 7, 8, 9, 10, 11, 12, 13, 14, 15, 7, 8, 9, 10, 11, 12, 13, 14, 15, 16, 8, 9, 10, 11, 12, 13, 14, 15, 16, 17, 9, 10, 11, 12, 13, 14, 15, 16, 17, 18, 1, 2, 3, 4, 5, 6, 7, 8, 9, 10, 2, 3, 4, 5, 6, 7, 8, 9, 10, 11, 3, 4, 5, 6, 7, 8, 9, 10, 11, 12, 4, 5, 6, 7, 8, 9, 10, 11, 12, 13, 5, 6, 7, 8, 9, 10, 11, 12, 13, 14, 6, 7, 8, 9, 10, 11, 12, 13, 14, 15, 7, 8, 9, 10, 11, 12, 13, 14, 15, 16, 8, 9, 10, 11, 12, 13, 14, 15, 16, 17, 9, 10, 11, 12, 13, 14, 15, 16, 17, 18, 10, 11, 12, 13, 14, 15, 16, 17, 18, 19, 2, 3, 4, 5, 6, 7, 8, 9, 10, 11, 3, 4, 5, 6, 7, 8, 9, 10, 11, 12, 4, 5, 6, 7, 8, 9, 10, 11, 12, 13, 5, 6, 7, 8, 9, 10, 11, 12, 13, 14, 6, 7, 8, 9, 10, 11, 12, 13, 14, 15, 7, 8, 9, 10, 11, 12, 13, 14, 15, 16, 8, 9, 10, 11, 12, 13, 14, 15, 16, 17, 9, 10, 11, 12, 13, 14, 15, 16, 17, 18, 10, 11, 12, 13, 14, 15, 16, 17, 18, 19, 11, 12, 13, 14, 15, 16, 17, 18, 19, 20, 3, 4, 5, 6, 7, 8, 9, 10, 11, 12, 4, 5, 6, 7, 8, 9, 10, 11, 12, 13, 5, 6, 7, 8, 9, 10, 11, 12, 13, 14, 6, 7, 8, 9, 10, 11, 12, 13, 14, 15, 7, 8, 9, 10, 11, 12, 13, 14, 15, 16, 8, 9, 10, 11, 12, 13, 14, 15, 16, 17, 9, 10, 11, 12, 13, 14, 15, 16, 17, 18, 10, 11, 12, 13, 14, 15, 16, 17, 18, 19, 11, 12, 13, 14, 15, 16, 17, 18, 19, 20, 12, 13, 14, 15, 16, 17, 18, 19, 20, 21, 4, 5, 6, 7, 8, 9, 10, 11, 12, 13, 5, 6, 7, 8, 9, 10, 11, 12, 13, 14, 6, 7, 8, 9, 10, 11, 12, 13, 14, 15, 7, 8, 9, 10, 11, 12, 13, 14, 15, 16, 8, 9, 10, 11, 12, 13, 14, 15, 16, 17, 9, 10, 11, 12, 13, 14, 15, 16, 17, 18, 10, 11, 12, 13, 14, 15, 16, 17, 18, 19, 11, 12, 13, 14, 15, 16, 17, 18, 19, 20, 12, 13, 14, 15, 16, 17, 18, 19, 20, 21, 13, 14, 15, 16, 17, 18, 19, 20, 21, 22, 5, 6, 7, 8, 9, 10, 11, 12, 13, 14, 6, 7, 8, 9, 10, 11, 12, 13, 14, 15, 7, 8, 9, 10, 11, 12, 13, 14, 15, 16, 8, 9, 10, 11, 12, 13, 14, 15, 16, 17, 9, 10, 11, 12, 13, 14, 15, 16, 17, 18, 10, 11, 12, 13, 14, 15, 16, 17, 18, 19, 11, 12, 13, 14, 15, 16, 17, 18, 19, 20, 12, 13, 14, 15, 16, 17, 18, 19, 20, 21, 13, 14, 15, 16, 17, 18, 19, 20, 21, 22, 14, 15, 16, 17, 18, 19, 20, 21, 22, 23, 6, 7, 8, 9, 10, 11, 12, 13, 14, 15, 7, 8, 9, 10, 11, 12, 13, 14, 15, 16, 8, 9, 10, 11, 12, 13, 14, 15, 16, 17, 9, 10, 11, 12, 13, 14, 15, 16, 17, 18, 10, 11, 12, 13, 14, 15, 16, 17, 18, 19, 11, 12, 13, 14, 15, 16, 17, 18, 19, 20, 12, 13, 14, 15, 16, 17, 18, 19, 20, 21, 13, 14, 15, 16, 17, 18, 19, 20, 21, 22, 14, 15, 16, 17, 18, 19, 20, 21, 22, 23, 15, 16, 17, 18, 19, 20, 21, 22, 23, 24, 7, 8, 9, 10, 11, 12, 13, 14, 15, 16, 8, 9, 10, 11, 12, 13, 14, 15, 16, 17, 9, 10, 11, 12, 13, 14, 15, 16, 17, 18, 10, 11, 12, 13, 14, 15, 16, 17, 18, 19, 11, 12, 13, 14, 15, 16, 17, 18, 19, 20, 12, 13, 14, 15, 16, 17, 18, 19, 20, 21, 13, 14, 15, 16, 17, 18, 19, 20, 21, 22, 14, 15, 16, 17, 18, 19, 20, 21, 22, 23, 15, 16, 17, 18, 19, 20, 21, 22, 23, 24, 16, 17, 18, 19, 20, 21, 22, 23, 24, 25, 8, 9, 10, 11, 12, 13, 14, 15, 16, 17, 9, 10, 11, 12, 13, 14, 15, 16, 17, 18, 10, 11, 12, 13, 14, 15, 16, 17, 18, 19, 11, 12, 13, 14, 15, 16, 17, 18, 19, 20, 12, 13, 14, 15, 16, 17, 18, 19, 20, 21, 13, 14, 15, 16, 17, 18, 19, 20, 21, 22, 14, 15, 16, 17, 18, 19, 20, 21, 22, 23, 15, 16, 17, 18, 19, 20, 21, 22, 23, 24, 16, 17, 18, 19, 20, 21, 22, 23, 24, 25, 17, 18, 19, 20, 21, 22, 23, 24, 25, 26, 9, 10, 11, 12, 13, 14, 15, 16, 17, 18, 10, 11, 12, 13, 14, 15, 16, 17, 18, 19, 11, 12, 13, 14, 15, 16, 17, 18, 19, 20, 12, 13, 14, 15, 16, 17, 18, 19, 20, 21, 13, 14, 15, 16, 17, 18, 19, 20, 21, 22, 14, 15, 16, 17, 18, 19, 20, 21, 22, 23, 15, 16, 17, 18, 19, 20, 21, 22, 23, 24, 16, 17, 18, 19, 20, 21, 22, 23, 24, 25, 17, 18, 19, 20, 21, 22, 23, 24, 25, 26, 18, 19, 20, 21, 22, 23, 24, 25, 26, 27, 1]\n"
     ]
    }
   ],
   "source": [
    "# Function to calculate the sum of digits of a number\n",
    "def sum_of_digits(number):\n",
    "    return sum(int(digit) for digit in str(number))\n",
    "\n",
    "# List comprehension to calculate the sum of digits for numbers from 1 to 1000\n",
    "sums_of_digits = [sum_of_digits(num) for num in range(1, 1001)]\n",
    "\n",
    "# Print the result\n",
    "print(f\"Sum of Digits for Numbers from 1 to 1000: {sums_of_digits}\")\n"
   ]
  },
  {
   "cell_type": "code",
   "execution_count": null,
   "id": "5303f0b6-859c-4233-8250-57da6dff2880",
   "metadata": {},
   "outputs": [],
   "source": []
  },
  {
   "cell_type": "markdown",
   "id": "18ad29a2-a34f-4a5d-b8a6-9598cf18aa0a",
   "metadata": {},
   "source": [
    "40. Write a program that generates a list of prime palindromic numbers using list comprehension.\n",
    "\n"
   ]
  },
  {
   "cell_type": "markdown",
   "id": "9ba4eca0-e187-43e9-b1e7-42ad8f950919",
   "metadata": {},
   "source": [
    "Ans."
   ]
  },
  {
   "cell_type": "code",
   "execution_count": 40,
   "id": "88fcb108-99df-4d3b-ab3c-98daa8fd8392",
   "metadata": {},
   "outputs": [
    {
     "name": "stdout",
     "output_type": "stream",
     "text": [
      "Prime Palindromic Numbers up to 1000: [2, 3, 5, 7, 11, 101, 131, 151, 181, 191, 313, 353, 373, 383, 727, 757, 787, 797, 919, 929]\n"
     ]
    }
   ],
   "source": [
    "# Function to check if a number is prime\n",
    "def is_prime(num):\n",
    "    if num < 2:\n",
    "        return False\n",
    "    for i in range(2, int(num**0.5) + 1):\n",
    "        if num % i == 0:\n",
    "            return False\n",
    "    return True\n",
    "\n",
    "# Function to check if a number is palindromic\n",
    "def is_palindromic(num):\n",
    "    return str(num) == str(num)[::-1]\n",
    "\n",
    "# Generate a list of prime palindromic numbers using list comprehension\n",
    "prime_palindromic_numbers = [num for num in range(1, 1000) if is_prime(num) and is_palindromic(num)]\n",
    "\n",
    "# Print the result\n",
    "print(\"Prime Palindromic Numbers up to 1000:\", prime_palindromic_numbers)\n"
   ]
  },
  {
   "cell_type": "code",
   "execution_count": null,
   "id": "a710b637-f40e-4841-bcd7-3d2867d7609f",
   "metadata": {},
   "outputs": [],
   "source": []
  }
 ],
 "metadata": {
  "kernelspec": {
   "display_name": "Python 3 (ipykernel)",
   "language": "python",
   "name": "python3"
  },
  "language_info": {
   "codemirror_mode": {
    "name": "ipython",
    "version": 3
   },
   "file_extension": ".py",
   "mimetype": "text/x-python",
   "name": "python",
   "nbconvert_exporter": "python",
   "pygments_lexer": "ipython3",
   "version": "3.10.8"
  }
 },
 "nbformat": 4,
 "nbformat_minor": 5
}
